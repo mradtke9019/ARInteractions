{
 "cells": [
  {
   "cell_type": "code",
   "execution_count": 1,
   "id": "64286415",
   "metadata": {},
   "outputs": [],
   "source": [
    "import numpy as np\n",
    "import pandas as pd\n",
    "import math\n",
    "import sys\n",
    "import copy\n",
    "import glob\n",
    "import os\n",
    "from PlotUtility import *\n",
    "from DataUtility import *"
   ]
  },
  {
   "cell_type": "code",
   "execution_count": 2,
   "id": "44822a4a",
   "metadata": {},
   "outputs": [
    {
     "name": "stdout",
     "output_type": "stream",
     "text": [
      "        Label  Hand  IndexCurl  MiddleCurl  RingCurl  PinkyCurl  ThumbCurl  \\\n",
      "0        Fist    -1   0.388441    0.595217  0.686365   0.752350   0.603996   \n",
      "1       Point    -1   0.068045    0.514199  0.668354   0.734244   0.640029   \n",
      "2       Point    -1   0.037026    0.446778  0.630210   0.668478   0.675106   \n",
      "3  ThumbsDown    -1   0.140332    0.326700  0.366442   0.398587   0.382245   \n",
      "4       Pinch    -1   0.371352    0.821174  0.881386   0.898628   0.545856   \n",
      "\n",
      "   WristXRotation  WristYRotation  WristZRotation  ...  PinkyTipZForward  \\\n",
      "0       329.51630       309.27650       347.69700  ...          0.088071   \n",
      "1        12.74996       121.37370        57.06156  ...          0.011605   \n",
      "2       353.38200       276.41530       112.17330  ...         -0.612024   \n",
      "3        19.85276        30.83629       286.37130  ...         -0.579292   \n",
      "4       288.20350       247.30270        75.06673  ...         -0.066824   \n",
      "\n",
      "   PinkyTipXUp  PinkyTipYUp  PinkyTipZUp  PinkyTipXRight  PinkyTipYRight  \\\n",
      "0    -0.205660    -0.970044    -0.129300       -0.113597       -0.107568   \n",
      "1    -0.711913    -0.557845    -0.426603        0.327851        0.273200   \n",
      "2     0.558303     0.261330     0.787404       -0.506088        0.859333   \n",
      "3    -0.639948    -0.016385     0.768244        0.350005       -0.896256   \n",
      "4    -0.155188    -0.678696     0.717836        0.252836        0.675150   \n",
      "\n",
      "   PinkyTipZRight  PinkyTipXLocalRotation  PinkyTipYLocalRotation  \\\n",
      "0        0.987687                12.58075                84.82270   \n",
      "1       -0.904365               308.40020               271.07050   \n",
      "2        0.073635               333.92130               132.95280   \n",
      "3        0.272438                26.31047               229.74140   \n",
      "4        0.692998                16.80049                94.00268   \n",
      "\n",
      "   PinkyTipZLocalRotation  \n",
      "0               186.32770  \n",
      "1               153.90710  \n",
      "2                73.08508  \n",
      "3               268.95260  \n",
      "4               135.15010  \n",
      "\n",
      "[5 rows x 397 columns]\n",
      "<class 'pandas.core.frame.DataFrame'>\n",
      "RangeIndex: 24558 entries, 0 to 24557\n",
      "Columns: 397 entries, Label to PinkyTipZLocalRotation\n",
      "dtypes: float64(395), int64(1), object(1)\n",
      "memory usage: 74.4+ MB\n",
      "None\n"
     ]
    }
   ],
   "source": [
    "dataPath = \"./OptimizedData/\"\n",
    "mergedDataPath = MergeJsonAndLabel(dataPath, \"./\", \"OptimizedFinal.json\")\n",
    "dataset = Dataset(mergedDataPath, Debug = True)"
   ]
  },
  {
   "cell_type": "code",
   "execution_count": null,
   "id": "58201684",
   "metadata": {},
   "outputs": [],
   "source": [
    "CVals = [0.01,0.1,1,10,100,1000]\n",
    "mse,std = PerformKFoldsValidationAndPlot(\"SVC\", dataset, CVals, \"C\", yLabel = \"Accuracy\", scale = True)"
   ]
  },
  {
   "cell_type": "code",
   "execution_count": null,
   "id": "99b28c63",
   "metadata": {},
   "outputs": [],
   "source": [
    "CVals = [0.1,1,10,100]\n",
    "mse,std = PerformKFoldsValidationAndPlot(\"SVC\", dataset, CVals, \"C\", yLabel = \"Accuracy\", scale = True)"
   ]
  },
  {
   "cell_type": "code",
   "execution_count": null,
   "id": "dab3142f",
   "metadata": {},
   "outputs": [],
   "source": [
    "idealC = 10\n",
    "TestValidationAccuracy(\"SVC\", dataset, c = idealC, K = None, scaleInput = True)"
   ]
  },
  {
   "cell_type": "code",
   "execution_count": null,
   "id": "a85c85b1",
   "metadata": {},
   "outputs": [],
   "source": [
    "idealC = 10\n",
    "SVCModel = MLModel()\n",
    "SVCModel.AssignModelAndHyperParameters(\"SVC\", c = idealC)\n",
    "SVCModel.TrainModel(dataset, True)\n",
    "SVCModel.ExportModel(\"./\", \"OptimizedFeatures\")"
   ]
  },
  {
   "cell_type": "code",
   "execution_count": null,
   "id": "0e76cbc2",
   "metadata": {},
   "outputs": [],
   "source": [
    "CVals = [0.01,0.1,1,10,100,1000]\n",
    "mse,std = PerformKFoldsValidationAndPlot(\"LinearSVCL2\", dataset, CVals, \"C\", yLabel = \"Accuracy\", scale = True)"
   ]
  },
  {
   "cell_type": "code",
   "execution_count": null,
   "id": "52fbe70a",
   "metadata": {},
   "outputs": [],
   "source": [
    "idealC = 10\n",
    "TestValidationAccuracy(\"LinearSVCL2\", dataset, c = idealC, K = None, scaleInput = True)"
   ]
  },
  {
   "cell_type": "code",
   "execution_count": 3,
   "id": "a6b84181",
   "metadata": {},
   "outputs": [
    {
     "name": "stdout",
     "output_type": "stream",
     "text": [
      "Fitting LinearSVCL2\n",
      "Saving model ./OptimizedFeaturesLinearModelLinearSVCL2.joblib\n"
     ]
    }
   ],
   "source": [
    "idealC = 10\n",
    "LinearSVCL2 = MLModel()\n",
    "LinearSVCL2.AssignModelAndHyperParameters(\"LinearSVCL2\", c = idealC)\n",
    "LinearSVCL2.TrainModel(dataset, True)\n",
    "LinearSVCL2.ExportModel(\"./\", \"OptimizedFeaturesLinear\")"
   ]
  },
  {
   "cell_type": "code",
   "execution_count": 4,
   "id": "d6c0f165",
   "metadata": {},
   "outputs": [
    {
     "data": {
      "text/plain": [
       "array([[-1.38547038e-01,  1.01748324e+00, -1.90083851e-01, ...,\n",
       "         7.05024108e-03,  2.82794221e-03,  6.16495736e-03],\n",
       "       [ 2.57242574e-01,  1.15656525e-01, -3.75156041e-01, ...,\n",
       "        -6.90642772e-03, -2.79035394e-03,  2.00519387e-02],\n",
       "       [ 2.69798551e-02,  1.05893610e-01, -2.24574080e-01, ...,\n",
       "        -7.12423271e-03, -1.76666950e-02, -1.10705454e-03],\n",
       "       ...,\n",
       "       [ 2.19382712e-02,  9.39715776e-02,  1.38335166e-01, ...,\n",
       "         1.65374625e-05, -2.99080032e-03, -8.74168925e-03],\n",
       "       [-1.87684005e-02,  1.36556646e-01,  1.24321513e-02, ...,\n",
       "        -2.39946829e-03,  1.13042278e-03,  2.25218475e-02],\n",
       "       [ 1.24786007e-02, -4.37420411e-01,  6.82877136e-02, ...,\n",
       "         4.61484452e-02, -1.34829907e-02,  9.38411781e-03]])"
      ]
     },
     "execution_count": 4,
     "metadata": {},
     "output_type": "execute_result"
    }
   ],
   "source": [
    "LinearSVCL2.model.coef_"
   ]
  },
  {
   "cell_type": "code",
   "execution_count": null,
   "id": "d4023de0",
   "metadata": {},
   "outputs": [],
   "source": []
  }
 ],
 "metadata": {
  "kernelspec": {
   "display_name": "Python 3 (ipykernel)",
   "language": "python",
   "name": "python3"
  },
  "language_info": {
   "codemirror_mode": {
    "name": "ipython",
    "version": 3
   },
   "file_extension": ".py",
   "mimetype": "text/x-python",
   "name": "python",
   "nbconvert_exporter": "python",
   "pygments_lexer": "ipython3",
   "version": "3.11.0"
  }
 },
 "nbformat": 4,
 "nbformat_minor": 5
}
