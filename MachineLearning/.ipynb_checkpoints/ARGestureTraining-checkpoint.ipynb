{
 "cells": [
  {
   "cell_type": "code",
   "execution_count": 1,
   "id": "14b7d88f",
   "metadata": {},
   "outputs": [],
   "source": [
    "import numpy as np\n",
    "import pandas as pd\n",
    "import math\n",
    "import sys\n",
    "import copy\n",
    "import glob\n",
    "import os\n",
    "from PlotUtility import *\n",
    "from DataUtility import *"
   ]
  },
  {
   "cell_type": "code",
   "execution_count": 2,
   "id": "579be676",
   "metadata": {},
   "outputs": [
    {
     "name": "stdout",
     "output_type": "stream",
     "text": [
      "       Label  Hand  IndexCurl  MiddleCurl  RingCurl  PinkyCurl  ThumbCurl  \\\n",
      "0   ThumbsUp     1   0.679643    0.809350  0.872331   0.909560   0.253711   \n",
      "1       Palm     1   0.008491    0.013816  0.026201   0.046906   0.350305   \n",
      "2       Fist     1   0.750313    0.809356  0.861801   0.908832   0.667185   \n",
      "3       Fist     1   0.737724    0.841301  0.884075   0.934710   0.643961   \n",
      "4  PeaceSign     1   0.001951    0.019584  0.425070   0.468386   0.737583   \n",
      "\n",
      "   NoneXRotation  NoneYRotation  NoneZRotation  ...  PinkyTipZUp  \\\n",
      "0              0              0              0  ...     0.979639   \n",
      "1              0              0              0  ...    -0.595534   \n",
      "2              0              0              0  ...    -0.881142   \n",
      "3              0              0              0  ...    -0.999826   \n",
      "4              0              0              0  ...    -0.676987   \n",
      "\n",
      "   PinkyTipXRight  PinkyTipYRight  PinkyTipZRight  PinkyTipXLocalRotation  \\\n",
      "0       -0.335623       -0.939166       -0.072970               339.91370   \n",
      "1        0.980462        0.092264       -0.173727               323.90630   \n",
      "2       -0.736546       -0.512157       -0.441809                49.37908   \n",
      "3        0.114184       -0.993428       -0.007941               353.43650   \n",
      "4       -0.652579       -0.755686        0.055490                28.29568   \n",
      "\n",
      "   PinkyTipYLocalRotation  PinkyTipZLocalRotation  PinkyTipXLocalPosition  \\\n",
      "0               258.51280                269.7325                0.154399   \n",
      "1               193.92140                173.4436               -0.137051   \n",
      "2               104.99970                308.1254                0.273478   \n",
      "3                90.97446                270.3437                0.204459   \n",
      "4               146.45910                300.8812                0.243409   \n",
      "\n",
      "   PinkyTipYLocalPosition  PinkyTipZLocalPosition  \n",
      "0               -0.084758               -0.787107  \n",
      "1               -0.422477               -0.715373  \n",
      "2               -0.358600               -0.036162  \n",
      "3               -0.220594                0.328812  \n",
      "4                0.048411                0.024342  \n",
      "\n",
      "[5 rows x 574 columns]\n",
      "<class 'pandas.core.frame.DataFrame'>\n",
      "RangeIndex: 4998 entries, 0 to 4997\n",
      "Columns: 574 entries, Label to PinkyTipZLocalPosition\n",
      "dtypes: float64(551), int64(22), object(1)\n",
      "memory usage: 21.9+ MB\n",
      "None\n"
     ]
    }
   ],
   "source": [
    "dataPath = \"./Data/\"\n",
    "mergedDataPath = MergeJsonAndLabel(dataPath, \"./\")\n",
    "dataset = Dataset(mergedDataPath, Debug = True)"
   ]
  },
  {
   "cell_type": "code",
   "execution_count": null,
   "id": "02a8dc4e",
   "metadata": {},
   "outputs": [],
   "source": [
    "KVals = np.arange(1,101,2)\n",
    "mse,std = PerformKFoldsValidationAndPlot(\"KNN\", dataset, KVals, \"K\", yLabel = \"Accuracy\", scale = False)\n",
    "mse,std = PerformKFoldsValidationAndPlot(\"KNN\", dataset, KVals, \"K\", yLabel = \"Accuracy\", scale = True)"
   ]
  },
  {
   "cell_type": "code",
   "execution_count": null,
   "id": "4347f3dc",
   "metadata": {},
   "outputs": [],
   "source": [
    "KVals = np.arange(1,41,2)\n",
    "mse,std = PerformKFoldsValidationAndPlot(\"KNN\", dataset, KVals, \"K\", yLabel = \"Accuracy\", scale = True)"
   ]
  },
  {
   "cell_type": "code",
   "execution_count": null,
   "id": "12bf0be6",
   "metadata": {},
   "outputs": [],
   "source": [
    "idealK = 51\n",
    "TestValidationAccuracy(\"KNN\", dataset, c = None, K = idealK, scaleInput = True)"
   ]
  },
  {
   "cell_type": "code",
   "execution_count": null,
   "id": "cb00b26c",
   "metadata": {},
   "outputs": [],
   "source": [
    "KNNModel = MLModel()\n",
    "KNNModel.AssignModelAndHyperParameters(\"KNN\", K = idealK)\n",
    "KNNModel.TrainModel(dataset, True)\n",
    "KNNModel.ExportModel(\"./\")"
   ]
  },
  {
   "cell_type": "code",
   "execution_count": null,
   "id": "f2038f4a",
   "metadata": {
    "scrolled": true
   },
   "outputs": [],
   "source": [
    "CVals = [0.01,0.1,1,10,100,1000]\n",
    "mse,std = PerformKFoldsValidationAndPlot(\"SVC\", dataset, CVals, \"C\", yLabel = \"Accuracy\", scale = True)"
   ]
  },
  {
   "cell_type": "code",
   "execution_count": null,
   "id": "876fc074",
   "metadata": {
    "scrolled": true
   },
   "outputs": [],
   "source": [
    "CVals = [0.1,1,10,20,30,40,50]\n",
    "mse,std = PerformKFoldsValidationAndPlot(\"SVC\", dataset, CVals, \"C\", yLabel = \"Accuracy\", scale = True)"
   ]
  },
  {
   "cell_type": "code",
   "execution_count": null,
   "id": "c04fe46a",
   "metadata": {},
   "outputs": [],
   "source": [
    "CVals = [0.1,1,10,20,30,40,50]\n",
    "mse,std = PerformKFoldsValidationAndPlot(\"SVC\", dataset, CVals, \"C\", yLabel = \"Accuracy\", scale = True)"
   ]
  },
  {
   "cell_type": "code",
   "execution_count": null,
   "id": "aaf9b95d",
   "metadata": {},
   "outputs": [],
   "source": [
    "idealC = 10\n",
    "TestValidationAccuracy(\"SVC\", dataset, c = idealC, K = None, scaleInput = True)"
   ]
  },
  {
   "cell_type": "code",
   "execution_count": null,
   "id": "10ff9348",
   "metadata": {},
   "outputs": [],
   "source": [
    "\n",
    "SVCModel = MLModel()\n",
    "SVCModel.AssignModelAndHyperParameters(\"SVC\", c = idealC)\n",
    "SVCModel.TrainModel(dataset, True)\n",
    "SVCModel.ExportModel(\"./\")"
   ]
  }
 ],
 "metadata": {
  "kernelspec": {
   "display_name": "Python 3 (ipykernel)",
   "language": "python",
   "name": "python3"
  },
  "language_info": {
   "codemirror_mode": {
    "name": "ipython",
    "version": 3
   },
   "file_extension": ".py",
   "mimetype": "text/x-python",
   "name": "python",
   "nbconvert_exporter": "python",
   "pygments_lexer": "ipython3",
   "version": "3.11.0"
  }
 },
 "nbformat": 4,
 "nbformat_minor": 5
}
